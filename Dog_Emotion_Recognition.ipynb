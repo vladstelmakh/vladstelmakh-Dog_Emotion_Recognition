{
  "cells": [
    {
      "cell_type": "code",
      "execution_count": null,
      "metadata": {
        "colab": {
          "base_uri": "https://localhost:8080/"
        },
        "id": "sQl_twqjjad4",
        "outputId": "5fb7df52-9c97-48f5-d9b8-87a3e505390f"
      },
      "outputs": [
        {
          "name": "stdout",
          "output_type": "stream",
          "text": [
            "Requirement already satisfied: kaggle in /usr/local/lib/python3.10/dist-packages (1.6.17)\n",
            "Requirement already satisfied: six>=1.10 in /usr/local/lib/python3.10/dist-packages (from kaggle) (1.16.0)\n",
            "Requirement already satisfied: certifi>=2023.7.22 in /usr/local/lib/python3.10/dist-packages (from kaggle) (2024.8.30)\n",
            "Requirement already satisfied: python-dateutil in /usr/local/lib/python3.10/dist-packages (from kaggle) (2.8.2)\n",
            "Requirement already satisfied: requests in /usr/local/lib/python3.10/dist-packages (from kaggle) (2.32.3)\n",
            "Requirement already satisfied: tqdm in /usr/local/lib/python3.10/dist-packages (from kaggle) (4.66.5)\n",
            "Requirement already satisfied: python-slugify in /usr/local/lib/python3.10/dist-packages (from kaggle) (8.0.4)\n",
            "Requirement already satisfied: urllib3 in /usr/local/lib/python3.10/dist-packages (from kaggle) (2.2.3)\n",
            "Requirement already satisfied: bleach in /usr/local/lib/python3.10/dist-packages (from kaggle) (6.1.0)\n",
            "Requirement already satisfied: webencodings in /usr/local/lib/python3.10/dist-packages (from bleach->kaggle) (0.5.1)\n",
            "Requirement already satisfied: text-unidecode>=1.3 in /usr/local/lib/python3.10/dist-packages (from python-slugify->kaggle) (1.3)\n",
            "Requirement already satisfied: charset-normalizer<4,>=2 in /usr/local/lib/python3.10/dist-packages (from requests->kaggle) (3.3.2)\n",
            "Requirement already satisfied: idna<4,>=2.5 in /usr/local/lib/python3.10/dist-packages (from requests->kaggle) (3.10)\n"
          ]
        }
      ],
      "source": [
        "!pip install kaggle"
      ]
    },
    {
      "cell_type": "code",
      "execution_count": null,
      "metadata": {
        "colab": {
          "base_uri": "https://localhost:8080/",
          "height": 90
        },
        "id": "NP16hi3ljbBB",
        "outputId": "cdfa502e-0c60-4914-8a6f-35c89a3212e9"
      },
      "outputs": [
        {
          "data": {
            "text/html": [
              "\n",
              "     <input type=\"file\" id=\"files-e5502ccc-0ed4-4f15-b603-6a7c45382bcf\" name=\"files[]\" multiple disabled\n",
              "        style=\"border:none\" />\n",
              "     <output id=\"result-e5502ccc-0ed4-4f15-b603-6a7c45382bcf\">\n",
              "      Upload widget is only available when the cell has been executed in the\n",
              "      current browser session. Please rerun this cell to enable.\n",
              "      </output>\n",
              "      <script>// Copyright 2017 Google LLC\n",
              "//\n",
              "// Licensed under the Apache License, Version 2.0 (the \"License\");\n",
              "// you may not use this file except in compliance with the License.\n",
              "// You may obtain a copy of the License at\n",
              "//\n",
              "//      http://www.apache.org/licenses/LICENSE-2.0\n",
              "//\n",
              "// Unless required by applicable law or agreed to in writing, software\n",
              "// distributed under the License is distributed on an \"AS IS\" BASIS,\n",
              "// WITHOUT WARRANTIES OR CONDITIONS OF ANY KIND, either express or implied.\n",
              "// See the License for the specific language governing permissions and\n",
              "// limitations under the License.\n",
              "\n",
              "/**\n",
              " * @fileoverview Helpers for google.colab Python module.\n",
              " */\n",
              "(function(scope) {\n",
              "function span(text, styleAttributes = {}) {\n",
              "  const element = document.createElement('span');\n",
              "  element.textContent = text;\n",
              "  for (const key of Object.keys(styleAttributes)) {\n",
              "    element.style[key] = styleAttributes[key];\n",
              "  }\n",
              "  return element;\n",
              "}\n",
              "\n",
              "// Max number of bytes which will be uploaded at a time.\n",
              "const MAX_PAYLOAD_SIZE = 100 * 1024;\n",
              "\n",
              "function _uploadFiles(inputId, outputId) {\n",
              "  const steps = uploadFilesStep(inputId, outputId);\n",
              "  const outputElement = document.getElementById(outputId);\n",
              "  // Cache steps on the outputElement to make it available for the next call\n",
              "  // to uploadFilesContinue from Python.\n",
              "  outputElement.steps = steps;\n",
              "\n",
              "  return _uploadFilesContinue(outputId);\n",
              "}\n",
              "\n",
              "// This is roughly an async generator (not supported in the browser yet),\n",
              "// where there are multiple asynchronous steps and the Python side is going\n",
              "// to poll for completion of each step.\n",
              "// This uses a Promise to block the python side on completion of each step,\n",
              "// then passes the result of the previous step as the input to the next step.\n",
              "function _uploadFilesContinue(outputId) {\n",
              "  const outputElement = document.getElementById(outputId);\n",
              "  const steps = outputElement.steps;\n",
              "\n",
              "  const next = steps.next(outputElement.lastPromiseValue);\n",
              "  return Promise.resolve(next.value.promise).then((value) => {\n",
              "    // Cache the last promise value to make it available to the next\n",
              "    // step of the generator.\n",
              "    outputElement.lastPromiseValue = value;\n",
              "    return next.value.response;\n",
              "  });\n",
              "}\n",
              "\n",
              "/**\n",
              " * Generator function which is called between each async step of the upload\n",
              " * process.\n",
              " * @param {string} inputId Element ID of the input file picker element.\n",
              " * @param {string} outputId Element ID of the output display.\n",
              " * @return {!Iterable<!Object>} Iterable of next steps.\n",
              " */\n",
              "function* uploadFilesStep(inputId, outputId) {\n",
              "  const inputElement = document.getElementById(inputId);\n",
              "  inputElement.disabled = false;\n",
              "\n",
              "  const outputElement = document.getElementById(outputId);\n",
              "  outputElement.innerHTML = '';\n",
              "\n",
              "  const pickedPromise = new Promise((resolve) => {\n",
              "    inputElement.addEventListener('change', (e) => {\n",
              "      resolve(e.target.files);\n",
              "    });\n",
              "  });\n",
              "\n",
              "  const cancel = document.createElement('button');\n",
              "  inputElement.parentElement.appendChild(cancel);\n",
              "  cancel.textContent = 'Cancel upload';\n",
              "  const cancelPromise = new Promise((resolve) => {\n",
              "    cancel.onclick = () => {\n",
              "      resolve(null);\n",
              "    };\n",
              "  });\n",
              "\n",
              "  // Wait for the user to pick the files.\n",
              "  const files = yield {\n",
              "    promise: Promise.race([pickedPromise, cancelPromise]),\n",
              "    response: {\n",
              "      action: 'starting',\n",
              "    }\n",
              "  };\n",
              "\n",
              "  cancel.remove();\n",
              "\n",
              "  // Disable the input element since further picks are not allowed.\n",
              "  inputElement.disabled = true;\n",
              "\n",
              "  if (!files) {\n",
              "    return {\n",
              "      response: {\n",
              "        action: 'complete',\n",
              "      }\n",
              "    };\n",
              "  }\n",
              "\n",
              "  for (const file of files) {\n",
              "    const li = document.createElement('li');\n",
              "    li.append(span(file.name, {fontWeight: 'bold'}));\n",
              "    li.append(span(\n",
              "        `(${file.type || 'n/a'}) - ${file.size} bytes, ` +\n",
              "        `last modified: ${\n",
              "            file.lastModifiedDate ? file.lastModifiedDate.toLocaleDateString() :\n",
              "                                    'n/a'} - `));\n",
              "    const percent = span('0% done');\n",
              "    li.appendChild(percent);\n",
              "\n",
              "    outputElement.appendChild(li);\n",
              "\n",
              "    const fileDataPromise = new Promise((resolve) => {\n",
              "      const reader = new FileReader();\n",
              "      reader.onload = (e) => {\n",
              "        resolve(e.target.result);\n",
              "      };\n",
              "      reader.readAsArrayBuffer(file);\n",
              "    });\n",
              "    // Wait for the data to be ready.\n",
              "    let fileData = yield {\n",
              "      promise: fileDataPromise,\n",
              "      response: {\n",
              "        action: 'continue',\n",
              "      }\n",
              "    };\n",
              "\n",
              "    // Use a chunked sending to avoid message size limits. See b/62115660.\n",
              "    let position = 0;\n",
              "    do {\n",
              "      const length = Math.min(fileData.byteLength - position, MAX_PAYLOAD_SIZE);\n",
              "      const chunk = new Uint8Array(fileData, position, length);\n",
              "      position += length;\n",
              "\n",
              "      const base64 = btoa(String.fromCharCode.apply(null, chunk));\n",
              "      yield {\n",
              "        response: {\n",
              "          action: 'append',\n",
              "          file: file.name,\n",
              "          data: base64,\n",
              "        },\n",
              "      };\n",
              "\n",
              "      let percentDone = fileData.byteLength === 0 ?\n",
              "          100 :\n",
              "          Math.round((position / fileData.byteLength) * 100);\n",
              "      percent.textContent = `${percentDone}% done`;\n",
              "\n",
              "    } while (position < fileData.byteLength);\n",
              "  }\n",
              "\n",
              "  // All done.\n",
              "  yield {\n",
              "    response: {\n",
              "      action: 'complete',\n",
              "    }\n",
              "  };\n",
              "}\n",
              "\n",
              "scope.google = scope.google || {};\n",
              "scope.google.colab = scope.google.colab || {};\n",
              "scope.google.colab._files = {\n",
              "  _uploadFiles,\n",
              "  _uploadFilesContinue,\n",
              "};\n",
              "})(self);\n",
              "</script> "
            ],
            "text/plain": [
              "<IPython.core.display.HTML object>"
            ]
          },
          "metadata": {},
          "output_type": "display_data"
        },
        {
          "name": "stdout",
          "output_type": "stream",
          "text": [
            "Saving kaggle.json to kaggle.json\n"
          ]
        },
        {
          "data": {
            "text/plain": [
              "{'kaggle.json': b'{\"username\":\"vladyslavstelmakh\",\"key\":\"2fed9b90a69f327d6a36487b6aada52b\"}'}"
            ]
          },
          "execution_count": 3,
          "metadata": {},
          "output_type": "execute_result"
        }
      ],
      "source": [
        "from google.colab import files\n",
        "files.upload()  # виберіть файл kaggle.json"
      ]
    },
    {
      "cell_type": "code",
      "execution_count": null,
      "metadata": {
        "id": "-hcDblfRjbEO"
      },
      "outputs": [],
      "source": [
        "import os\n",
        "\n",
        "# Створюємо директорію для Kaggle, якщо вона ще не існує\n",
        "os.makedirs('/root/.kaggle', exist_ok=True)\n",
        "\n",
        "# Копіюємо kaggle.json в цю директорію\n",
        "!cp kaggle.json /root/.kaggle/\n",
        "\n",
        "# Змінюємо дозволи на файл\n",
        "!chmod 600 /root/.kaggle/kaggle.json"
      ]
    },
    {
      "cell_type": "code",
      "execution_count": null,
      "metadata": {
        "colab": {
          "base_uri": "https://localhost:8080/"
        },
        "id": "vzwqkxA4jbHa",
        "outputId": "87024b14-8736-4e18-8454-c71bb4c9462a"
      },
      "outputs": [
        {
          "name": "stdout",
          "output_type": "stream",
          "text": [
            "ref                                            title                                 size  lastUpdated          downloadCount  voteCount  usabilityRating  \n",
            "---------------------------------------------  -----------------------------------  -----  -------------------  -------------  ---------  ---------------  \n",
            "tongpython/cat-and-dog                         Cat and Dog                          218MB  2018-04-26 10:56:50         124304       1240  0.75             \n",
            "marshuu/dog-breeds                             Dog breeds                             3KB  2022-12-20 18:49:43           3677         60  1.0              \n",
            "danielshanbalico/dog-emotion                   Dog Emotion                          155MB  2023-02-09 09:58:36           3570         56  1.0              \n",
            "dansbecker/hot-dog-not-hot-dog                 Hot Dog - Not Hot Dog                 89MB  2018-07-19 05:52:04           7047        126  0.625            \n",
            "shaunthesheep/microsoft-catsvsdogs-dataset     Cats-vs-Dogs                         788MB  2020-03-12 05:34:30          51273        573  0.875            \n",
            "jessicali9530/stanford-dogs-dataset            Stanford Dogs Dataset                750MB  2019-11-13 06:20:35          52785       1037  0.75             \n",
            "mohamedchahed/dog-breeds                       Dog Breeds                            82MB  2023-04-02 14:39:29           1411         26  0.8125           \n",
            "andrewmvd/dog-and-cat-detection                Dog and Cat Detection                  1GB  2020-05-12 20:46:17           6892         89  0.875            \n",
            "ashfakyeafi/cat-dog-images-for-classification  Cat & Dog images for Classification  545MB  2023-12-12 18:54:44           3932        111  1.0              \n",
            "devzohaib/dog-emotions-prediction              Dog Emotions Prediction              379MB  2022-10-03 18:08:51           2942         55  0.875            \n",
            "anthonytherrien/dog-vs-cat                     Dog vs Cat                           360MB  2024-09-28 00:44:01           1596         33  0.875            \n",
            "whenamancodes/dog-adoption                     Dog Adoption                          19MB  2022-10-28 11:19:18           2621         46  0.9411765        \n",
            "d4rklucif3r/cat-and-dogs                       Cat & Dogs                           218MB  2021-06-07 11:39:13           5661         96  1.0              \n",
            "sujaykapadnis/dog-breeds                       Dog Breeds                            27KB  2023-09-22 09:18:10            927         30  1.0              \n",
            "khushikhushikhushi/dog-breed-image-dataset     Dog Breed Image Dataset                4MB  2024-06-16 06:31:11           1990         41  0.875            \n",
            "chetankv/dogs-cats-images                      Dogs & Cats Images                   435MB  2018-04-19 18:20:08          41563        591  0.5625           \n",
            "mmoreaux/audio-cats-and-dogs                   Audio Cats and Dogs                   97MB  2017-10-05 09:40:26          14621        260  0.7647059        \n",
            "dhruvildave/dogecoin-historical-data           Dogecoin Historical Data              47KB  2024-03-31 00:29:27           3168         80  1.0              \n",
            "new-york-city/nyc-dog-names                    NYC Dog Names                         55KB  2017-08-31 16:04:44           4303         56  0.8235294        \n",
            "arpitjain007/dog-vs-cat-fastai                 Dog vs Cat (fastai)                    2GB  2019-02-07 04:05:38           9614        155  0.4375           \n"
          ]
        }
      ],
      "source": [
        "!kaggle datasets list -s \"dog\"  # Змініть на будь-які інші ключові слова, якщо потрібно\n"
      ]
    },
    {
      "cell_type": "code",
      "execution_count": null,
      "metadata": {
        "colab": {
          "base_uri": "https://localhost:8080/"
        },
        "id": "Tvt5s9bujbKg",
        "outputId": "cf821f2f-83bd-4f4e-fbfd-a96181ee2b30"
      },
      "outputs": [
        {
          "name": "stdout",
          "output_type": "stream",
          "text": [
            "Dataset URL: https://www.kaggle.com/datasets/devzohaib/dog-emotions-prediction\n",
            "License(s): CC0-1.0\n",
            "Downloading dog-emotions-prediction.zip to /content\n",
            " 99% 377M/379M [00:19<00:00, 21.1MB/s]\n",
            "100% 379M/379M [00:19<00:00, 20.8MB/s]\n"
          ]
        }
      ],
      "source": [
        "!kaggle datasets download -d devzohaib/dog-emotions-prediction"
      ]
    },
    {
      "cell_type": "code",
      "execution_count": null,
      "metadata": {
        "id": "eziuLCI1jbN7"
      },
      "outputs": [],
      "source": [
        "import os\n",
        "\n",
        "# Створюємо каталог для Kaggle, якщо його ще немає\n",
        "os.makedirs('/root/.kaggle', exist_ok=True)\n",
        "\n",
        "# Копіюємо kaggle.json у створений каталог\n",
        "!cp kaggle.json /root/.kaggle/\n",
        "\n",
        "# Задаємо правильні дозволи\n",
        "!chmod 600 /root/.kaggle/kaggle.json"
      ]
    },
    {
      "cell_type": "code",
      "execution_count": null,
      "metadata": {
        "colab": {
          "base_uri": "https://localhost:8080/"
        },
        "id": "ir6u6Gi_j2Ht",
        "outputId": "82fecb91-97ac-4b6c-ce5e-0235bdd374a4"
      },
      "outputs": [
        {
          "name": "stdout",
          "output_type": "stream",
          "text": [
            "Contents of /content:\n",
            "['.config', 'kaggle.json', 'dog-emotions-prediction.zip', 'sample_data']\n"
          ]
        }
      ],
      "source": [
        "import os\n",
        "\n",
        "# Перевірте вміст кореневої директорії /content\n",
        "print(\"Contents of /content:\")\n",
        "print(os.listdir('/content'))"
      ]
    },
    {
      "cell_type": "code",
      "execution_count": null,
      "metadata": {
        "colab": {
          "base_uri": "https://localhost:8080/"
        },
        "id": "TlA10uZuj2PD",
        "outputId": "ad1489c8-91b8-420c-e3f8-0e7d6e9490c3"
      },
      "outputs": [
        {
          "name": "stdout",
          "output_type": "stream",
          "text": [
            "Contents of the dataset directory:\n",
            "['images']\n"
          ]
        }
      ],
      "source": [
        "import zipfile\n",
        "import os\n",
        "\n",
        "zip_path = '/content/dog-emotions-prediction.zip'\n",
        "extract_path = '/content/dataset'\n",
        "\n",
        "# Розпаковка zip-файлу\n",
        "with zipfile.ZipFile(zip_path, 'r') as zip_ref:\n",
        "    zip_ref.extractall(extract_path)\n",
        "\n",
        "# Перевірка вмісту розпакованої директорії\n",
        "print(\"Contents of the dataset directory:\")\n",
        "print(os.listdir(extract_path))"
      ]
    },
    {
      "cell_type": "code",
      "execution_count": null,
      "metadata": {
        "colab": {
          "base_uri": "https://localhost:8080/"
        },
        "id": "HKKs9-qZj2YW",
        "outputId": "1d1d011e-ded3-4eb8-a85f-c6e56e543538"
      },
      "outputs": [
        {
          "name": "stdout",
          "output_type": "stream",
          "text": [
            "Contents of the images directory:\n",
            "['sad', 'relaxed', 'happy', 'angry']\n"
          ]
        }
      ],
      "source": [
        "import os\n",
        "\n",
        "# Вказуємо шлях до папки з зображеннями\n",
        "image_directory = '/content/dataset/images'\n",
        "\n",
        "# Перевірка вмісту папки images\n",
        "print(\"Contents of the images directory:\")\n",
        "print(os.listdir(image_directory))"
      ]
    },
    {
      "cell_type": "code",
      "execution_count": null,
      "metadata": {
        "colab": {
          "base_uri": "https://localhost:8080/"
        },
        "id": "SkcjVH7-kHaD",
        "outputId": "c4ebad94-6ff1-47bd-c49c-a6f32dbadd21"
      },
      "outputs": [
        {
          "name": "stdout",
          "output_type": "stream",
          "text": [
            "Генерація зображень завершена.\n"
          ]
        }
      ],
      "source": [
        "import os\n",
        "import numpy as np\n",
        "import cv2  # Для збереження зображень\n",
        "\n",
        "# Шляхи до директорій\n",
        "base_dir = '/content/dataset/images'\n",
        "train_dir = os.path.join(base_dir, 'train')\n",
        "test_dir = os.path.join(base_dir, 'test')\n",
        "\n",
        "# Класи\n",
        "classes = ['angry', 'happy', 'relaxed', 'sad']\n",
        "\n",
        "# Створення директорій\n",
        "os.makedirs(train_dir, exist_ok=True)\n",
        "os.makedirs(test_dir, exist_ok=True)\n",
        "\n",
        "for class_name in classes:\n",
        "    os.makedirs(os.path.join(train_dir, class_name), exist_ok=True)\n",
        "    os.makedirs(os.path.join(test_dir, class_name), exist_ok=True)\n",
        "\n",
        "# Функція для генерації базових зображень\n",
        "def generate_dummy_images(base_path, class_name, count):\n",
        "    for i in range(count):\n",
        "        # Створюємо прості кольорові зображення\n",
        "        img = np.random.randint(0, 256, (180, 180, 3), dtype=np.uint8)\n",
        "        img_path = os.path.join(base_path, class_name, f\"{class_name}_{i}.png\")\n",
        "        cv2.imwrite(img_path, img)\n",
        "\n",
        "# Генерація зображень\n",
        "for class_name in classes:\n",
        "    generate_dummy_images(train_dir, class_name, 500)  # 500 зображень для навчального набору\n",
        "    generate_dummy_images(test_dir, class_name, 100)   # 100 зображень для тестового набору\n",
        "\n",
        "print(\"Генерація зображень завершена.\")"
      ]
    },
    {
      "cell_type": "code",
      "execution_count": null,
      "metadata": {
        "colab": {
          "base_uri": "https://localhost:8080/"
        },
        "id": "f-SkuOdrkHgN",
        "outputId": "f0078a25-27cf-4fe8-995f-0fb2f2e537b6"
      },
      "outputs": [
        {
          "name": "stdout",
          "output_type": "stream",
          "text": [
            "Found 2000 images belonging to 4 classes.\n",
            "Found 400 images belonging to 4 classes.\n"
          ]
        }
      ],
      "source": [
        "import os\n",
        "from tensorflow.keras.preprocessing.image import ImageDataGenerator\n",
        "\n",
        "# Шляхи до каталогів\n",
        "train_dir = '/content/dataset/images/train'  # Встановіть правильний шлях до навчальних даних\n",
        "test_dir = '/content/dataset/images/test'      # Встановіть правильний шлях до валідаційних даних\n",
        "\n",
        "# Перевірка наявності каталогу\n",
        "if not os.path.exists(train_dir):\n",
        "    print(f\"Каталог {train_dir} не знайдено.\")\n",
        "if not os.path.exists(test_dir):\n",
        "    print(f\"Каталог {test_dir} не знайдено.\")\n",
        "\n",
        "# Аугментація даних\n",
        "datagen = ImageDataGenerator(\n",
        "    rotation_range=30,\n",
        "    width_shift_range=0.1,\n",
        "    height_shift_range=0.1,\n",
        "    shear_range=0.1,\n",
        "    zoom_range=0.1,\n",
        "    horizontal_flip=True,\n",
        "    fill_mode='nearest'\n",
        ")\n",
        "\n",
        "# Створення генераторів для навчальних та валідаційних даних\n",
        "train_dataset = datagen.flow_from_directory(\n",
        "    train_dir,\n",
        "    target_size=(224, 224),  # Розмір зображень\n",
        "    batch_size=32,\n",
        "    class_mode='categorical'  # або 'binary', якщо у вас 2 класи\n",
        ")\n",
        "\n",
        "test_dataset = datagen.flow_from_directory(\n",
        "    test_dir,\n",
        "    target_size=(224, 224),\n",
        "    batch_size=32,\n",
        "    class_mode='categorical'  # або 'binary', якщо у вас 2 класи\n",
        ")\n",
        "\n",
        "\n",
        "\n"
      ]
    },
    {
      "cell_type": "code",
      "execution_count": 58,
      "metadata": {
        "colab": {
          "base_uri": "https://localhost:8080/"
        },
        "id": "UT46YL-WyW8W",
        "outputId": "9d26bfd1-75f3-4ec1-a325-0891c5aca75f"
      },
      "outputs": [
        {
          "output_type": "stream",
          "name": "stdout",
          "text": [
            "Contents of the image folder: ['sad', 'relaxed', 'happy', 'train', 'validation', 'angry', 'test', 'val']\n",
            "Class names found: ['sad', 'relaxed', 'happy', 'angry', 'train', 'validation', 'test', 'val']\n",
            "Found 15920 images belonging to 8 classes.\n",
            "Found 13477 images belonging to 8 classes.\n",
            "Train dataset: 15920 images, 8 classes\n",
            "Validation dataset: 13477 images, 8 classes\n",
            "Epoch 1/10\n",
            "\u001b[1m498/498\u001b[0m \u001b[32m━━━━━━━━━━━━━━━━━━━━\u001b[0m\u001b[37m\u001b[0m \u001b[1m107s\u001b[0m 205ms/step - accuracy: 0.3085 - loss: 1.4422 - val_accuracy: 0.3493 - val_loss: 1.3238\n",
            "Epoch 2/10\n",
            "\u001b[1m498/498\u001b[0m \u001b[32m━━━━━━━━━━━━━━━━━━━━\u001b[0m\u001b[37m\u001b[0m \u001b[1m97s\u001b[0m 193ms/step - accuracy: 0.3607 - loss: 1.3239 - val_accuracy: 0.4097 - val_loss: 1.2756\n",
            "Epoch 3/10\n",
            "\u001b[1m498/498\u001b[0m \u001b[32m━━━━━━━━━━━━━━━━━━━━\u001b[0m\u001b[37m\u001b[0m \u001b[1m92s\u001b[0m 184ms/step - accuracy: 0.3971 - loss: 1.2869 - val_accuracy: 0.4617 - val_loss: 1.2163\n",
            "Epoch 4/10\n",
            "\u001b[1m498/498\u001b[0m \u001b[32m━━━━━━━━━━━━━━━━━━━━\u001b[0m\u001b[37m\u001b[0m \u001b[1m136s\u001b[0m 272ms/step - accuracy: 0.4544 - loss: 1.2070 - val_accuracy: 0.5551 - val_loss: 1.0738\n",
            "Epoch 5/10\n",
            "\u001b[1m498/498\u001b[0m \u001b[32m━━━━━━━━━━━━━━━━━━━━\u001b[0m\u001b[37m\u001b[0m \u001b[1m93s\u001b[0m 186ms/step - accuracy: 0.5461 - loss: 1.0509 - val_accuracy: 0.6874 - val_loss: 0.8435\n",
            "Epoch 6/10\n",
            "\u001b[1m498/498\u001b[0m \u001b[32m━━━━━━━━━━━━━━━━━━━━\u001b[0m\u001b[37m\u001b[0m \u001b[1m98s\u001b[0m 195ms/step - accuracy: 0.6848 - loss: 0.7767 - val_accuracy: 0.8442 - val_loss: 0.4852\n",
            "Epoch 7/10\n",
            "\u001b[1m498/498\u001b[0m \u001b[32m━━━━━━━━━━━━━━━━━━━━\u001b[0m\u001b[37m\u001b[0m \u001b[1m96s\u001b[0m 192ms/step - accuracy: 0.8402 - loss: 0.4294 - val_accuracy: 0.9331 - val_loss: 0.2726\n",
            "Epoch 8/10\n",
            "\u001b[1m497/498\u001b[0m \u001b[32m━━━━━━━━━━━━━━━━━━━\u001b[0m\u001b[37m━\u001b[0m \u001b[1m0s\u001b[0m 110ms/step - accuracy: 0.9334 - loss: 0.2142\n",
            "Досягнуто цільової точності 95.00%. Зупинка навчання.\n",
            "\u001b[1m498/498\u001b[0m \u001b[32m━━━━━━━━━━━━━━━━━━━━\u001b[0m\u001b[37m\u001b[0m \u001b[1m98s\u001b[0m 196ms/step - accuracy: 0.9334 - loss: 0.2143 - val_accuracy: 0.9660 - val_loss: 0.1447\n"
          ]
        }
      ],
      "source": [
        "import zipfile\n",
        "import os\n",
        "import shutil\n",
        "import numpy as np\n",
        "import tensorflow as tf\n",
        "from tensorflow.keras.preprocessing.image import ImageDataGenerator\n",
        "from tensorflow.keras.models import Sequential\n",
        "from tensorflow.keras.layers import Conv2D, MaxPooling2D, Flatten, Dense\n",
        "from tensorflow.keras.optimizers import Adam\n",
        "from tensorflow.keras.callbacks import Callback\n",
        "\n",
        "# Клас для раннього зупинення при досягненні певної точності\n",
        "class EarlyStoppingAtAccuracy(Callback):\n",
        "    def __init__(self, target_accuracy=0.95):  # Поріг точності 95%\n",
        "        super(EarlyStoppingAtAccuracy, self).__init__()\n",
        "        self.target_accuracy = target_accuracy\n",
        "\n",
        "    def on_epoch_end(self, epoch, logs=None):\n",
        "        current_accuracy = logs.get('val_accuracy')\n",
        "        if current_accuracy is not None and current_accuracy >= self.target_accuracy:\n",
        "            print(f\"\\nДосягнуто цільової точності {self.target_accuracy * 100:.2f}%. Зупинка навчання.\")\n",
        "            self.model.stop_training = True\n",
        "\n",
        "# Розпаковка zip-файлу\n",
        "zip_path = '/content/dog-emotions-prediction.zip'  # Вкажіть шлях до вашого zip-файлу\n",
        "extract_path = '/content/dataset'\n",
        "\n",
        "with zipfile.ZipFile(zip_path, 'r') as zip_ref:\n",
        "    zip_ref.extractall(extract_path)\n",
        "\n",
        "# Визначення папки з зображеннями\n",
        "image_folder = os.path.join(extract_path, 'images')\n",
        "\n",
        "# Перевірка структури папок\n",
        "print(\"Contents of the image folder:\", os.listdir(image_folder))\n",
        "\n",
        "# Створення директорій для навчальних та валідаційних наборів\n",
        "train_dir = os.path.join(extract_path, 'train')\n",
        "val_dir = os.path.join(extract_path, 'validation')\n",
        "\n",
        "os.makedirs(train_dir, exist_ok=True)\n",
        "os.makedirs(val_dir, exist_ok=True)\n",
        "\n",
        "# Отримання класових назв (ігнорування непотрібних папок)\n",
        "class_names = ['sad', 'relaxed', 'happy', 'angry', 'train', 'validation', 'test', 'val']  # Вибираємо тільки потрібні класи\n",
        "print(\"Class names found:\", class_names)\n",
        "\n",
        "# Створюємо підкаталоги для кожного класу в навчальній та валідаційній директорії\n",
        "for class_name in class_names:\n",
        "    os.makedirs(os.path.join(train_dir, class_name), exist_ok=True)\n",
        "    os.makedirs(os.path.join(val_dir, class_name), exist_ok=True)\n",
        "\n",
        "# Розподіл зображень на навчальні та валідаційні набори\n",
        "for class_name in class_names:\n",
        "    class_images = os.listdir(os.path.join(image_folder, class_name))\n",
        "    np.random.shuffle(class_images)  # Перемішуємо зображення\n",
        "    num_train = int(0.8 * len(class_images))  # 80% для навчання\n",
        "\n",
        "    for img in class_images[:num_train]:\n",
        "        src = os.path.join(image_folder, class_name, img)\n",
        "        dst = os.path.join(train_dir, class_name, img)\n",
        "\n",
        "        # Переконуємося, що це файл, а не каталог\n",
        "        if os.path.isfile(src):\n",
        "            shutil.copy(src, dst)\n",
        "\n",
        "    for img in class_images[num_train:]:\n",
        "        src = os.path.join(image_folder, class_name, img)\n",
        "        dst = os.path.join(val_dir, class_name, img)\n",
        "\n",
        "        # Переконуємося, що це файл, а не каталог\n",
        "        if os.path.isfile(src):\n",
        "            shutil.copy(src, dst)\n",
        "\n",
        "# Параметри для підготовки даних\n",
        "IMG_SIZE = (224, 224)\n",
        "BATCH_SIZE = 32\n",
        "\n",
        "# Підготовка даних\n",
        "train_datagen = ImageDataGenerator(rescale=1./255)\n",
        "validation_datagen = ImageDataGenerator(rescale=1./255)\n",
        "\n",
        "# Завантаження даних\n",
        "train_dataset = train_datagen.flow_from_directory(\n",
        "    train_dir,\n",
        "    target_size=IMG_SIZE,\n",
        "    batch_size=BATCH_SIZE,\n",
        "    class_mode='categorical',\n",
        "    shuffle=True\n",
        ")\n",
        "\n",
        "validation_dataset = validation_datagen.flow_from_directory(\n",
        "    val_dir,\n",
        "    target_size=IMG_SIZE,\n",
        "    batch_size=BATCH_SIZE,\n",
        "    class_mode='categorical',\n",
        "    shuffle=True\n",
        ")\n",
        "\n",
        "# Перевірка формату даних\n",
        "print(f\"Train dataset: {train_dataset.samples} images, {len(train_dataset.class_indices)} classes\")\n",
        "print(f\"Validation dataset: {validation_dataset.samples} images, {len(validation_dataset.class_indices)} classes\")\n",
        "\n",
        "# Перевірка, чи не порожні датасети\n",
        "if train_dataset.samples == 0:\n",
        "    raise ValueError(\"Training dataset is empty. Please check the path and structure of the training data.\")\n",
        "if validation_dataset.samples == 0:\n",
        "    raise ValueError(\"Validation dataset is empty. Please check the path and structure of the validation data.\")\n",
        "\n",
        "# Створення моделі\n",
        "model = Sequential([\n",
        "    Conv2D(32, (3, 3), activation='relu', input_shape=(IMG_SIZE[0], IMG_SIZE[1], 3)),\n",
        "    MaxPooling2D(pool_size=(2, 2)),\n",
        "    Conv2D(64, (3, 3), activation='relu'),\n",
        "    MaxPooling2D(pool_size=(2, 2)),\n",
        "    Conv2D(128, (3, 3), activation='relu'),\n",
        "    MaxPooling2D(pool_size=(2, 2)),\n",
        "    Flatten(),\n",
        "    Dense(128, activation='relu'),\n",
        "    Dense(len(class_names), activation='softmax')  # Використовуємо правильну кількість класів\n",
        "])\n",
        "\n",
        "# Компіліція моделі\n",
        "model.compile(optimizer=Adam(), loss='categorical_crossentropy', metrics=['accuracy'])\n",
        "\n",
        "# Додавання раннього зупинення при досягненні цільової точності\n",
        "early_stopping_accuracy = EarlyStoppingAtAccuracy(target_accuracy=0.95)\n",
        "\n",
        "# Тренування моделі\n",
        "history = model.fit(\n",
        "    train_dataset,\n",
        "    validation_data=validation_dataset,\n",
        "    epochs=10,\n",
        "    callbacks=[early_stopping_accuracy]  # Додати колбек\n",
        ")\n",
        "\n",
        "\n",
        "\n",
        "\n",
        "\n",
        "\n",
        "\n",
        "\n",
        "\n",
        "\n",
        "\n",
        "\n",
        "\n",
        "\n",
        "\n",
        "\n",
        "\n",
        "\n",
        "\n",
        "\n",
        "\n",
        "\n",
        "\n",
        "\n",
        "\n"
      ]
    },
    {
      "cell_type": "code",
      "source": [
        "# Збереження моделі у форматі Keras\n",
        "model.save('emotion_detection_model.keras')\n",
        "\n"
      ],
      "metadata": {
        "id": "iFgrPe9PLlRl"
      },
      "execution_count": 60,
      "outputs": []
    },
    {
      "cell_type": "code",
      "source": [
        "import matplotlib.pyplot as plt\n",
        "\n",
        "# Візуалізація навчання\n",
        "plt.plot(history.history['accuracy'], label='Training Accuracy')\n",
        "plt.plot(history.history['val_accuracy'], label='Validation Accuracy')\n",
        "plt.title('Model Accuracy')\n",
        "plt.xlabel('Epochs')\n",
        "plt.ylabel('Accuracy')\n",
        "plt.legend()\n",
        "plt.show()\n",
        "\n",
        "plt.plot(history.history['loss'], label='Training Loss')\n",
        "plt.plot(history.history['val_loss'], label='Validation Loss')\n",
        "plt.title('Model Loss')\n",
        "plt.xlabel('Epochs')\n",
        "plt.ylabel('Loss')\n",
        "plt.legend()\n",
        "plt.show()\n",
        "\n"
      ],
      "metadata": {
        "colab": {
          "base_uri": "https://localhost:8080/",
          "height": 927
        },
        "id": "8XGZHfZEMam9",
        "outputId": "158a7b60-e7b9-4420-9456-aa774a191dc5"
      },
      "execution_count": 62,
      "outputs": [
        {
          "output_type": "display_data",
          "data": {
            "text/plain": [
              "<Figure size 640x480 with 1 Axes>"
            ],
            "image/png": "[encoded data removed]"
          },
          "metadata": {}
        },
        {
          "output_type": "display_data",
          "data": {
            "text/plain": [
              "<Figure size 640x480 with 1 Axes>"
            ],
            "image/png": "[encoded data removed]"
          },
          "metadata": {}
        }
      ]
    }
  ],
  "metadata": {
    "accelerator": "GPU",
    "colab": {
      "gpuType": "T4",
      "provenance": []
    },
    "kernelspec": {
      "display_name": "Python 3",
      "name": "python3"
    },
    "language_info": {
      "name": "python"
    }
  },
  "nbformat": 4,
  "nbformat_minor": 0
}